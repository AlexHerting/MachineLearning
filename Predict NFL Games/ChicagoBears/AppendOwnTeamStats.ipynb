{
 "cells": [
  {
   "cell_type": "code",
   "execution_count": 1,
   "id": "2e4fe491-bc27-4e7b-98e0-5f7e3859e259",
   "metadata": {
    "tags": []
   },
   "outputs": [],
   "source": [
    "import pandas as pd\n",
    "\n",
    "# Load your two dataframes\n",
    "df1 = pd.read_csv('GameHistory.csv')  # This is the file with the 'Opp' column\n",
    "df2 = pd.read_csv('BearsStatsHistory.csv')  # This is the file you provided"
   ]
  },
  {
   "cell_type": "code",
   "execution_count": 2,
   "id": "407d7015-10e2-4e8e-b8c0-03f02e235ac2",
   "metadata": {
    "tags": []
   },
   "outputs": [],
   "source": [
    "# Convert the 'date' columns to datetime and extract the year\n",
    "df1['Year'] = pd.to_datetime(df1['Date']).dt.year\n",
    "df2['Year'] = pd.to_datetime(df2['date']).dt.year"
   ]
  },
  {
   "cell_type": "code",
   "execution_count": 3,
   "id": "674d8207-2ae8-469e-88c0-35e62710fda0",
   "metadata": {
    "tags": []
   },
   "outputs": [],
   "source": [
    "# Create a copy of df1 to hold the updated data\n",
    "df1_updated = df1.copy()\n",
    "\n",
    "# For each unique year in df1, update the corresponding rows in df1_updated with the matching rows from df2\n",
    "for year in df1['Year'].unique():\n",
    "    # Find the indices in df1 where 'Year' equals the current year\n",
    "    indices = df1[df1['Year'] == year].index\n",
    "    # If the current year exists in df2\n",
    "    if year in df2['Year'].values:\n",
    "        # Find the matching row in df2\n",
    "        matching_row = df2[df2['Year'] == year].iloc[0]\n",
    "        # For each index, update the row in df1_updated\n",
    "        for i in indices:\n",
    "            df1_updated.loc[i, df2.columns] = matching_row\n",
    "\n",
    "# Save the updated dataframe to a new CSV file\n",
    "df1_updated.to_csv('finalBearsTest.csv', index=False)"
   ]
  },
  {
   "cell_type": "code",
   "execution_count": null,
   "id": "aeb1b357-cc98-428c-b0f4-011740f9d7fe",
   "metadata": {},
   "outputs": [],
   "source": []
  }
 ],
 "metadata": {
  "kernelspec": {
   "display_name": "Python 3 (ipykernel)",
   "language": "python",
   "name": "python3"
  },
  "language_info": {
   "codemirror_mode": {
    "name": "ipython",
    "version": 3
   },
   "file_extension": ".py",
   "mimetype": "text/x-python",
   "name": "python",
   "nbconvert_exporter": "python",
   "pygments_lexer": "ipython3",
   "version": "3.11.5"
  }
 },
 "nbformat": 4,
 "nbformat_minor": 5
}
