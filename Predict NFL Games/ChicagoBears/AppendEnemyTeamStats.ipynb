{
 "cells": [
  {
   "cell_type": "code",
   "execution_count": 26,
   "id": "a49ff3be-62d7-4898-9032-751ae982fc6a",
   "metadata": {
    "tags": []
   },
   "outputs": [],
   "source": [
    "import pandas as pd\n",
    "\n",
    "# Load your two dataframes\n",
    "df1 = pd.read_csv('GameHistory.csv')  # This is the file with the 'Opp' column\n",
    "df2 = pd.read_csv('ColtsStatsHistory.csv')  # This is the file you provided"
   ]
  },
  {
   "cell_type": "code",
   "execution_count": 27,
   "id": "54899684-5b89-4c72-8cb0-1b3f6f7bf2d5",
   "metadata": {
    "tags": []
   },
   "outputs": [],
   "source": [
    "# Convert the 'date' columns to datetime and extract the year\n",
    "df1['Year'] = pd.to_datetime(df1['Date']).dt.year\n",
    "df2['Year'] = pd.to_datetime(df2['date']).dt.year\n"
   ]
  },
  {
   "cell_type": "code",
   "execution_count": 37,
   "id": "27e30c81-92bc-446c-b7ef-456c846cb307",
   "metadata": {
    "tags": []
   },
   "outputs": [],
   "source": [
    "# Filter df1 for rows where 'Opp' contains 'Colts'\n",
    "df1_colts = df1[df1['Opp'].str.contains('Colts')]\n",
    "\n",
    "# Create a copy of df1 to hold the updated data\n",
    "df1_updated = df1.copy()\n",
    "\n",
    "# For each unique year in df1_colts, update the corresponding rows in df1_updated with the matching rows from df2\n",
    "for year in df1_colts['Year'].unique():\n",
    "    # Find the indices in df1 where 'Year' equals the current year and 'Opp' contains 'Colts'\n",
    "    indices = df1[(df1['Year'] == year) & (df1['Opp'].str.contains('Colts'))].index\n",
    "    # If the current year exists in df2\n",
    "    if year in df2['Year'].values:\n",
    "        # Find the matching row in df2\n",
    "        matching_row = df2[df2['Year'] == year].iloc[0]\n",
    "        # For each index, update the row in df1_updated\n",
    "        for i in indices:\n",
    "            df1_updated.loc[i, df2.columns] = matching_row\n",
    "\n",
    "# Save the updated dataframe to a new CSV file\n",
    "df1_updated.to_csv('updated.csv', index=False)"
   ]
  }
 ],
 "metadata": {
  "kernelspec": {
   "display_name": "Python 3 (ipykernel)",
   "language": "python",
   "name": "python3"
  },
  "language_info": {
   "codemirror_mode": {
    "name": "ipython",
    "version": 3
   },
   "file_extension": ".py",
   "mimetype": "text/x-python",
   "name": "python",
   "nbconvert_exporter": "python",
   "pygments_lexer": "ipython3",
   "version": "3.11.5"
  }
 },
 "nbformat": 4,
 "nbformat_minor": 5
}
