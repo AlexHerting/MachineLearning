{
 "cells": [
  {
   "cell_type": "code",
   "execution_count": 128,
   "id": "b6592a7e-8517-4b23-9060-35b0bd64a8b1",
   "metadata": {
    "tags": []
   },
   "outputs": [],
   "source": [
    "import pandas as pd\n",
    "df = pd.read_csv('tempData.csv')\n",
    "\n",
    "# Assuming df is your DataFrame and it has columns 'Day' and 'Date'\n",
    "df['Date'] = pd.to_datetime(df['Date'] + ', 2023')  # Change the year to the year of your data\n",
    "  "
   ]
  },
  {
   "cell_type": "code",
   "execution_count": 129,
   "id": "d74de7f1-23d6-40cc-9c4c-05add6e3a9c7",
   "metadata": {
    "tags": []
   },
   "outputs": [],
   "source": [
    "df.to_csv('output.csv', index=False)"
   ]
  },
  {
   "cell_type": "code",
   "execution_count": null,
   "id": "70ae549a-5e7a-4f77-9964-60c92aa3c432",
   "metadata": {},
   "outputs": [],
   "source": []
  }
 ],
 "metadata": {
  "kernelspec": {
   "display_name": "Python 3 (ipykernel)",
   "language": "python",
   "name": "python3"
  },
  "language_info": {
   "codemirror_mode": {
    "name": "ipython",
    "version": 3
   },
   "file_extension": ".py",
   "mimetype": "text/x-python",
   "name": "python",
   "nbconvert_exporter": "python",
   "pygments_lexer": "ipython3",
   "version": "3.11.5"
  }
 },
 "nbformat": 4,
 "nbformat_minor": 5
}
