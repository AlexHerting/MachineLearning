{
 "cells": [
  {
   "cell_type": "code",
   "execution_count": 3,
   "id": "49cc556b-bc3d-46dd-8d56-3ad0b48a76ff",
   "metadata": {
    "tags": []
   },
   "outputs": [],
   "source": [
    "import pandas as pd\n",
    "games = pd.read_csv('tempData.csv')\n",
    "\n",
    "#convert result to float64\n",
    "games['result'] = games['result'].apply(lambda x: 0 if x == 'L' else 1)\n",
    "\n",
    "# Now 'result' is in binary format (0 or 1), you can convert it to float64\n",
    "games['result'] = games['result'].astype('float64')\n",
    "\n",
    "#location converted to float64\n",
    "games['location'] = games['location'].apply(lambda x: 0 if x == '@' else 1)\n",
    "\n",
    "# Now 'location' is in binary format (0 or 1), you can convert it to float64\n",
    "games['location'] = games['location'].astype('float64')\n",
    "\n",
    "games.to_csv('output.csv', index=False)"
   ]
  },
  {
   "cell_type": "code",
   "execution_count": null,
   "id": "5c23af1c-b90d-4be3-bf7f-a49d990045a4",
   "metadata": {},
   "outputs": [],
   "source": []
  }
 ],
 "metadata": {
  "kernelspec": {
   "display_name": "Python 3 (ipykernel)",
   "language": "python",
   "name": "python3"
  },
  "language_info": {
   "codemirror_mode": {
    "name": "ipython",
    "version": 3
   },
   "file_extension": ".py",
   "mimetype": "text/x-python",
   "name": "python",
   "nbconvert_exporter": "python",
   "pygments_lexer": "ipython3",
   "version": "3.11.5"
  }
 },
 "nbformat": 4,
 "nbformat_minor": 5
}
