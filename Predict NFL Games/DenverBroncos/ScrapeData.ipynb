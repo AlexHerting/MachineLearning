{
 "cells": [
  {
   "cell_type": "code",
   "execution_count": null,
   "id": "1c0ab372-8a6b-431f-a456-72eb19386400",
   "metadata": {
    "tags": []
   },
   "outputs": [],
   "source": [
    "import pandas as pd\n",
    "import time\n",
    "from urllib.error import HTTPError\n",
    "\n",
    "# Initialize a list to store all data\n",
    "all_data = []\n",
    "\n",
    "# Initial delay in seconds\n",
    "delay = 1\n",
    "\n",
    "for year in range(1970, 2024):\n",
    "    # URL of the page with the data\n",
    "    url = f'https://www.pro-football-reference.com/teams/was/{year}.htm#team_stats'\n",
    "\n",
    "    while True:\n",
    "        try:\n",
    "            # Use pandas to read the tables from the webpage\n",
    "            tables = pd.read_html(url, header=[0,1])\n",
    "\n",
    "            # Assuming the table you want is the first one on the page\n",
    "            df = tables[0]\n",
    "\n",
    "            # Flatten the multi-index\n",
    "            df.columns = [' '.join(col).strip() for col in df.columns.values]\n",
    "\n",
    "            # Select the specified columns\n",
    "            columns = [\"Unnamed: 1_level_0 PF\",\"Unnamed: 2_level_0 Yds\",\"Tot Yds & TO TO\",\"Unnamed: 6_level_0 FL\",\"Unnamed: 7_level_0 1stD\",\"Passing Att\",\"Passing Yds\",\"Passing TD\",\"Passing Int\",\"Passing NY/A\",\"Rushing Att\",\"Rushing Yds\",\"Rushing TD\",\"Rushing Y/A\"]\n",
    "            df = df[columns]\n",
    "\n",
    "            # Select the last two rows\n",
    "            df = df[-2:]\n",
    "\n",
    "            # Append the data to the all_data list\n",
    "            all_data.append(df)\n",
    "\n",
    "            # If the request is successful, reset the delay\n",
    "            delay = 1\n",
    "\n",
    "            # Exit the loop\n",
    "            break\n",
    "\n",
    "        except HTTPError as e:\n",
    "            if e.code == 429:\n",
    "                print(f\"Too many requests for year {year}. Waiting {delay} seconds.\")\n",
    "                time.sleep(delay)\n",
    "\n",
    "                # Increase the delay for the next potential 429 error\n",
    "                delay *= 2\n",
    "            else:\n",
    "                print(f\"An HTTP error {e.code} occurred for the year {year}.\")\n",
    "                break\n",
    "        except Exception as e:\n",
    "            print(f\"An error occurred for the year {year}: {e}\")\n",
    "            break\n",
    "\n",
    "# Concatenate all the dataframes in the list into a single dataframe\n",
    "all_data_df = pd.concat(all_data)\n",
    "\n",
    "# Save the DataFrame to a CSV file\n",
    "all_data_df.to_csv('nfl_team_rankings.csv', index=False)\n"
   ]
  },
  {
   "cell_type": "code",
   "execution_count": 18,
   "id": "dc7d0d3c-fd01-4ead-a0c3-ee64bd56ae4f",
   "metadata": {},
   "outputs": [
    {
     "name": "stdout",
     "output_type": "stream",
     "text": [
      "2.0.3\n"
     ]
    }
   ],
   "source": [
    "print(pd.__version__)"
   ]
  },
  {
   "cell_type": "code",
   "execution_count": null,
   "id": "44e88949-e644-4fa5-867a-573e8d443e9c",
   "metadata": {},
   "outputs": [],
   "source": []
  }
 ],
 "metadata": {
  "kernelspec": {
   "display_name": "Python 3 (ipykernel)",
   "language": "python",
   "name": "python3"
  },
  "language_info": {
   "codemirror_mode": {
    "name": "ipython",
    "version": 3
   },
   "file_extension": ".py",
   "mimetype": "text/x-python",
   "name": "python",
   "nbconvert_exporter": "python",
   "pygments_lexer": "ipython3",
   "version": "3.11.5"
  }
 },
 "nbformat": 4,
 "nbformat_minor": 5
}
